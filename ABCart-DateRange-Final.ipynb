{
 "cells": [
  {
   "cell_type": "code",
   "execution_count": 3,
   "id": "9ce6bb01-4e02-46b0-b7e4-6354cb2e4c21",
   "metadata": {},
   "outputs": [
    {
     "name": "stdout",
     "output_type": "stream",
     "text": [
      "✅ Pivot table and filtered data saved to: D:/DYD/AI-ML/Python-Scripts/Data/ABCart_with_Pivot.xlsx\n"
     ]
    }
   ],
   "source": [
    "import pandas as pd\n",
    "\n",
    "# Step 1: Load CSV\n",
    "df = pd.read_csv('D:/DYD/AI-ML/Python-Scripts/Data/ABCart.csv')\n",
    "\n",
    "# Step 2: Convert CartCreationDate to datetime\n",
    "df['CartCreationDate'] = pd.to_datetime(df['CartCreationDate'], errors='coerce')\n",
    "\n",
    "# Step 3: Filter by date range\n",
    "start_date = '2025-05-16'\n",
    "end_date = '2025-05-17'\n",
    "\n",
    "filtered_df = df[(df['CartCreationDate'] >= start_date) & (df['CartCreationDate'] <= end_date)]\n",
    "\n",
    "# Step 4: Create pivot table\n",
    "pivot_table = pd.pivot_table(\n",
    "    filtered_df,\n",
    "    values='mobile',\n",
    "    index='CartCreationDate',\n",
    "    columns='Package',\n",
    "    aggfunc='count',\n",
    "    fill_value=0\n",
    ")\n",
    "\n",
    "# Step 5: Write both to Excel (original + pivot in separate sheets)\n",
    "output_file = 'D:/DYD/AI-ML/Python-Scripts/Data/ABCart_with_Pivot.xlsx'\n",
    "\n",
    "with pd.ExcelWriter(output_file, engine='openpyxl') as writer:\n",
    "    filtered_df.to_excel(writer, sheet_name='Filtered Data', index=False)\n",
    "    pivot_table.to_excel(writer, sheet_name='Pivot Table')\n",
    "\n",
    "print(f\"✅ Pivot table and filtered data saved to: {output_file}\")\n"
   ]
  },
  {
   "cell_type": "code",
   "execution_count": null,
   "id": "4469feb3-43e3-423e-a30b-312320df5790",
   "metadata": {},
   "outputs": [],
   "source": []
  }
 ],
 "metadata": {
  "kernelspec": {
   "display_name": "Python 3 (ipykernel)",
   "language": "python",
   "name": "python3"
  },
  "language_info": {
   "codemirror_mode": {
    "name": "ipython",
    "version": 3
   },
   "file_extension": ".py",
   "mimetype": "text/x-python",
   "name": "python",
   "nbconvert_exporter": "python",
   "pygments_lexer": "ipython3",
   "version": "3.11.7"
  }
 },
 "nbformat": 4,
 "nbformat_minor": 5
}
