{
 "cells": [
  {
   "cell_type": "code",
   "execution_count": 47,
   "id": "edb4c219-6d92-460a-8c70-8f1795384fad",
   "metadata": {},
   "outputs": [
    {
     "name": "stdout",
     "output_type": "stream",
     "text": [
      "✅ Pivot tables saved to: D:/DYD/AI-ML/Python-Scripts/Data/SV_SG_Pivot.xlsx\n"
     ]
    }
   ],
   "source": [
    "import pandas as pd\n",
    "\n",
    "# Step 1: Load CSV\n",
    "df = pd.read_csv('D:/DYD/AI-ML/Python-Scripts/Data/SV_SG.csv')\n",
    "\n",
    "# Step 2: Convert order_date to datetime\n",
    "df['order_date'] = pd.to_datetime(df['order_date'], errors='coerce')\n",
    "\n",
    "# Step 3: Filter by date range\n",
    "start_date = '2025-01-01'\n",
    "end_date = '2025-05-31'\n",
    "\n",
    "filtered_df = df[(df['order_date'] >= start_date) & (df['order_date'] <= end_date)]\n",
    "\n",
    "# Step 4: Create Pivot Table with multi-index on rows\n",
    "pivot_table = pd.pivot_table(\n",
    "    filtered_df,\n",
    "    values='Customer_Number',\n",
    "    index=['SV_NAME', 'selected_time_slot_name'],\n",
    "    columns='order_date',\n",
    "    aggfunc='count',\n",
    "    fill_value=0,\n",
    "    margins=True,\n",
    "    margins_name='Total'\n",
    ")\n",
    "\n",
    "# Step 5: Write to Excel with optional multiple sheets per Status\n",
    "output_file = 'D:/DYD/AI-ML/Python-Scripts/Data/SV_SG_Pivot.xlsx'\n",
    "\n",
    "with pd.ExcelWriter(output_file, engine='openpyxl') as writer:\n",
    "    # Save main filtered data\n",
    "    filtered_df.to_excel(writer, sheet_name='Filtered Data', index=False)\n",
    "    \n",
    "    # Save combined pivot\n",
    "    pivot_table.to_excel(writer, sheet_name='Pivot All Status')\n",
    "\n",
    "    # Optional: save one pivot per Status (simulating filter behavior)\n",
    "    for status in filtered_df['Status'].dropna().unique():\n",
    "        status_df = filtered_df[filtered_df['Status'] == status]\n",
    "        status_pivot = pd.pivot_table(\n",
    "            status_df,\n",
    "            values='Customer_Number',\n",
    "            index=['SV_NAME', 'selected_time_slot_name'],\n",
    "            columns='order_date',\n",
    "            aggfunc='count',\n",
    "            fill_value=0,\n",
    "            margins=True,\n",
    "            margins_name='Total'\n",
    "        )\n",
    "        sheet_name = f\"Pivot_{status[:28]}\"  # Sheet name max length = 31\n",
    "        status_pivot.to_excel(writer, sheet_name=sheet_name)\n",
    "\n",
    "print(f\"✅ Pivot tables saved to: {output_file}\")\n"
   ]
  },
  {
   "cell_type": "code",
   "execution_count": null,
   "id": "d1e2463f-7ef1-432b-b701-cd50d9117108",
   "metadata": {},
   "outputs": [],
   "source": []
  }
 ],
 "metadata": {
  "kernelspec": {
   "display_name": "Python 3 (ipykernel)",
   "language": "python",
   "name": "python3"
  },
  "language_info": {
   "codemirror_mode": {
    "name": "ipython",
    "version": 3
   },
   "file_extension": ".py",
   "mimetype": "text/x-python",
   "name": "python",
   "nbconvert_exporter": "python",
   "pygments_lexer": "ipython3",
   "version": "3.11.7"
  }
 },
 "nbformat": 4,
 "nbformat_minor": 5
}
